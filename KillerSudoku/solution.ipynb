{
 "cells": [
  {
   "cell_type": "markdown",
   "metadata": {
    "pycharm": {
     "name": "#%% md\n"
    }
   },
   "source": [
    "# Solve Killer Sudoku"
   ]
  },
  {
   "cell_type": "markdown",
   "metadata": {
    "pycharm": {
     "name": "#%% md\n"
    }
   },
   "source": [
    "Import z3 library"
   ]
  },
  {
   "cell_type": "code",
   "execution_count": 1,
   "metadata": {
    "pycharm": {
     "name": "#%%\n"
    }
   },
   "outputs": [],
   "source": [
    "from z3 import *"
   ]
  },
  {
   "cell_type": "markdown",
   "metadata": {
    "pycharm": {
     "name": "#%% md\n"
    }
   },
   "source": [
    "Define global parameters"
   ]
  },
  {
   "cell_type": "code",
   "execution_count": 2,
   "metadata": {
    "pycharm": {
     "name": "#%%\n"
    }
   },
   "outputs": [],
   "source": [
    "column_size = 9\n",
    "row_size = 9"
   ]
  },
  {
   "cell_type": "markdown",
   "metadata": {
    "pycharm": {
     "name": "#%% md\n"
    }
   },
   "source": [
    "Create Z3 Solver"
   ]
  },
  {
   "cell_type": "code",
   "execution_count": 3,
   "metadata": {
    "pycharm": {
     "name": "#%%\n"
    }
   },
   "outputs": [],
   "source": [
    "s = Solver()"
   ]
  },
  {
   "cell_type": "markdown",
   "metadata": {
    "pycharm": {
     "name": "#%% md\n"
    }
   },
   "source": [
    "Initiate cell matrix"
   ]
  },
  {
   "cell_type": "code",
   "execution_count": 4,
   "metadata": {
    "pycharm": {
     "name": "#%%\n"
    }
   },
   "outputs": [],
   "source": [
    "cells = [[Int('cell%d%d' % (r, c)) for c in range(column_size)] for r in range(row_size)]"
   ]
  },
  {
   "cell_type": "markdown",
   "metadata": {
    "pycharm": {
     "name": "#%% md\n"
    }
   },
   "source": [
    "Add digit constraints: dom(val(cell in cells)) = [1, 9]"
   ]
  },
  {
   "cell_type": "code",
   "execution_count": 5,
   "metadata": {
    "pycharm": {
     "name": "#%%\n"
    }
   },
   "outputs": [],
   "source": [
    "for r in range(row_size):\n",
    "    for c in range(column_size):\n",
    "        s.add(cells[r][c] >= 1)\n",
    "        s.add(cells[r][c] <= 9)"
   ]
  },
  {
   "cell_type": "markdown",
   "metadata": {
    "pycharm": {
     "name": "#%% md\n"
    }
   },
   "source": [
    "Add row constraints"
   ]
  },
  {
   "cell_type": "code",
   "execution_count": 6,
   "metadata": {
    "pycharm": {
     "name": "#%%\n"
    }
   },
   "outputs": [],
   "source": [
    "for r in range(row_size):\n",
    "    s.add(Distinct(cells[r][0],\n",
    "                   cells[r][1],\n",
    "                   cells[r][2],\n",
    "                   cells[r][3],\n",
    "                   cells[r][4],\n",
    "                   cells[r][5],\n",
    "                   cells[r][6],\n",
    "                   cells[r][7],\n",
    "                   cells[r][8]))"
   ]
  },
  {
   "cell_type": "markdown",
   "metadata": {},
   "source": [
    "Add column constraints"
   ]
  },
  {
   "cell_type": "code",
   "execution_count": 7,
   "metadata": {
    "pycharm": {
     "name": "#%%\n"
    }
   },
   "outputs": [],
   "source": [
    "for c in range(row_size):\n",
    "    s.add(Distinct(cells[0][c],\n",
    "                   cells[1][c],\n",
    "                   cells[2][c],\n",
    "                   cells[3][c],\n",
    "                   cells[4][c],\n",
    "                   cells[5][c],\n",
    "                   cells[6][c],\n",
    "                   cells[7][c],\n",
    "                   cells[8][c]))"
   ]
  },
  {
   "cell_type": "markdown",
   "metadata": {},
   "source": [
    "Add 3*3 grid constrains"
   ]
  },
  {
   "cell_type": "code",
   "execution_count": 8,
   "metadata": {
    "pycharm": {
     "name": "#%%\n"
    }
   },
   "outputs": [],
   "source": [
    "for r in range(0, row_size, 3):\n",
    "    for c in range(0, column_size, 3):\n",
    "        s.add(Distinct(cells[r + 0][c + 0],\n",
    "                       cells[r + 0][c + 1],\n",
    "                       cells[r + 0][c + 2],\n",
    "                       cells[r + 1][c + 0],\n",
    "                       cells[r + 1][c + 1],\n",
    "                       cells[r + 1][c + 2],\n",
    "                       cells[r + 2][c + 0],\n",
    "                       cells[r + 2][c + 1],\n",
    "                       cells[r + 2][c + 2]))"
   ]
  },
  {
   "cell_type": "markdown",
   "metadata": {},
   "source": [
    "Add cage constrains from the file"
   ]
  },
  {
   "cell_type": "code",
   "execution_count": 9,
   "metadata": {
    "pycharm": {
     "name": "#%%\n"
    }
   },
   "outputs": [],
   "source": [
    "f = open('cage_constraints', 'r')\n",
    "\n",
    "for line in f:\n",
    "    cage = []\n",
    "    e = line.split(' ')\n",
    "    for i in range(1, len(e)):\n",
    "        cage.append(cells[int(e[i][0]) - 1][int(e[i][1]) - 1])\n",
    "    s.add(Distinct(*cage))\n",
    "    s.add(Sum(*cage) == e[0])\n",
    "\n",
    "f.close()"
   ]
  },
  {
   "cell_type": "markdown",
   "metadata": {},
   "source": [
    "Start solving"
   ]
  },
  {
   "cell_type": "code",
   "execution_count": 10,
   "metadata": {
    "pycharm": {
     "name": "#%%\n"
    }
   },
   "outputs": [],
   "source": [
    "s.check()\n",
    "m = s.model()"
   ]
  },
  {
   "cell_type": "markdown",
   "metadata": {},
   "source": [
    "Output result matrix"
   ]
  },
  {
   "cell_type": "code",
   "execution_count": 11,
   "metadata": {
    "pycharm": {
     "name": "#%%\n"
    }
   },
   "outputs": [
    {
     "name": "stdout",
     "output_type": "stream",
     "text": [
      "2 1 5 6 4 7 3 9 8 \n",
      "3 6 8 9 5 2 1 7 4 \n",
      "7 9 4 3 8 1 6 5 2 \n",
      "5 8 6 2 7 4 9 3 1 \n",
      "1 4 2 5 9 3 8 6 7 \n",
      "9 7 3 8 1 6 4 2 5 \n",
      "8 2 1 7 3 9 5 4 6 \n",
      "6 5 9 4 2 8 7 1 3 \n",
      "4 3 7 1 6 5 2 8 9 \n"
     ]
    }
   ],
   "source": [
    "for r in range(row_size):\n",
    "    for c in range(column_size):\n",
    "        print(str(m[cells[r][c]]) + ' ', end='')\n",
    "    print()\n"
   ]
  }
 ],
 "metadata": {
  "kernelspec": {
   "display_name": "Python 3",
   "language": "python",
   "name": "python3"
  },
  "language_info": {
   "codemirror_mode": {
    "name": "ipython",
    "version": 3
   },
   "file_extension": ".py",
   "mimetype": "text/x-python",
   "name": "python",
   "nbconvert_exporter": "python",
   "pygments_lexer": "ipython3",
   "version": "3.7.4"
  }
 },
 "nbformat": 4,
 "nbformat_minor": 1
}